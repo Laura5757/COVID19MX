import pandas as pd
import matplotlib.pyplot as plt

df_2020 = pd.read_csv("/content/drive/MyDrive/Colab Notebooks/covid_2020.csv", header=None)
df_2021 = pd.read_csv("/content/drive/MyDrive/Colab Notebooks/covid_2021.csv", header=None)
df_2022 = pd.read_csv("/content/drive/MyDrive/Colab Notebooks/covid_2022.csv", header=None)
df_2023 = pd.read_csv("/content/drive/MyDrive/Colab Notebooks/covid_2023.csv", header=None)

years = ['2020', '2021', '2022', '2023']
colors = ['green', 'red', 'blue', 'purple']

combined_data = pd.DataFrame()

for year, color, df in zip(years, colors, [df_2020, df_2021, df_2022, df_2023]):
    dates = pd.to_datetime(df.iloc[0], format='%d/%m/%Y', errors='coerce')
    deaths = df.iloc[1].str.split(',').apply(lambda x: [int(val) for val in x])  # Convertir a lista de enteros
    
    data = pd.DataFrame({'Dates': dates, 'Deaths': deaths.apply(sum)})  # Sumar las muertes diarias
    data['Year'] = year
    combined_data = pd.concat([combined_data, data])

plt.figure(figsize=(12, 6))

for year, color in zip(years, colors):
    year_data = combined_data[combined_data['Year'] == year]
    plt.plot(year_data['Dates'], year_data['Deaths'], label=year, color=color)

plt.xlabel("Date")
plt.ylabel("COVID-19 Deaths")
plt.title("COVID-19 Deaths per Day (2020-2023)")
plt.legend(loc='upper right', title='Year')

plt.xlim(pd.to_datetime('01/01/2020', format='%d/%m/%Y'), pd.to_datetime('31/12/2023', format='%d/%m/%Y'))
plt.xticks(rotation=45)
plt.grid(True)

plt.show()
